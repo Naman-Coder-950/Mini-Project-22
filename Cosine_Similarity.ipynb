{
  "nbformat": 4,
  "nbformat_minor": 0,
  "metadata": {
    "colab": {
      "provenance": [],
      "authorship_tag": "ABX9TyNjTfcOWg9JEvx+lMyhwoS9",
      "include_colab_link": true
    },
    "kernelspec": {
      "name": "python3",
      "display_name": "Python 3"
    },
    "language_info": {
      "name": "python"
    }
  },
  "cells": [
    {
      "cell_type": "markdown",
      "metadata": {
        "id": "view-in-github",
        "colab_type": "text"
      },
      "source": [
        "<a href=\"https://colab.research.google.com/github/Naman-Coder-950/Mini-Project-22/blob/main/Cosine_Similarity.ipynb\" target=\"_parent\"><img src=\"https://colab.research.google.com/assets/colab-badge.svg\" alt=\"Open In Colab\"/></a>"
      ]
    },
    {
      "cell_type": "markdown",
      "source": [
        "Program for Cosine Similarity"
      ],
      "metadata": {
        "id": "1Vyidzu6wq5V"
      }
    },
    {
      "cell_type": "code",
      "execution_count": 1,
      "metadata": {
        "colab": {
          "base_uri": "https://localhost:8080/"
        },
        "id": "Yi_meTZswgY2",
        "outputId": "f2b00efd-4044-4c27-b863-2060c10c5d5e"
      },
      "outputs": [
        {
          "output_type": "stream",
          "name": "stdout",
          "text": [
            "Text Cosine Similarity: 0.6666666666666666\n",
            "Numeric Vector Cosine Similarity: 0.9746318461970762\n"
          ]
        }
      ],
      "source": [
        "from sklearn.feature_extraction.text import CountVectorizer\n",
        "from sklearn.metrics.pairwise import cosine_similarity\n",
        "import numpy as np\n",
        "\n",
        "# -------------------------------\n",
        "# 1️⃣ Cosine Similarity for Text\n",
        "# -------------------------------\n",
        "\n",
        "doc1 = \"Machine learning is amazing\"\n",
        "doc2 = \"Deep learning is a part of machine learning\"\n",
        "\n",
        "# Convert text to count vectors\n",
        "vectorizer = CountVectorizer()\n",
        "vectors = vectorizer.fit_transform([doc1, doc2])\n",
        "\n",
        "# Compute cosine similarity\n",
        "text_cos_sim = cosine_similarity(vectors[0], vectors[1])[0][0]\n",
        "print(\"Text Cosine Similarity:\", text_cos_sim)\n",
        "\n",
        "# -------------------------------\n",
        "# 2️⃣ Cosine Similarity for Numeric Vectors\n",
        "# -------------------------------\n",
        "\n",
        "vec1 = np.array([1, 2, 3])\n",
        "vec2 = np.array([4, 5, 6])\n",
        "\n",
        "# Compute cosine similarity manually\n",
        "dot_product = np.dot(vec1, vec2)\n",
        "norm_product = np.linalg.norm(vec1) * np.linalg.norm(vec2)\n",
        "numeric_cos_sim = dot_product / norm_product\n",
        "\n",
        "print(\"Numeric Vector Cosine Similarity:\", numeric_cos_sim)\n"
      ]
    }
  ]
}